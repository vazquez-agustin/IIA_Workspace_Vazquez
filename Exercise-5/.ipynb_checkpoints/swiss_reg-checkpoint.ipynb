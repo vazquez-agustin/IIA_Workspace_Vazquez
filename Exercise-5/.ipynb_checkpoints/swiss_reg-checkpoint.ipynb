{
 "cells": [
  {
   "cell_type": "markdown",
   "id": "7ab5e04c",
   "metadata": {},
   "source": [
    "# Ejercicio Módulo 5 - Dataset Swiss\n",
    "**Inteligencia Artificial - CEIA - FIUBA**\n",
    "\n",
    "**Agustín Jesús Vazquez (e2301)**\n",
    "\n",
    "Para aprender sobre regresión, vamos a utilizar un dataset clásico llamado Swiss, que proviene originalmente del lenguaje R. Este dataset contiene datos socioeconómicos de 47 provincias suizas a fines del siglo XIX. Cada fila representa una provincia, y las variables reflejan características demográficas y sociales relevantes para ese contexto histórico.\n",
    "\n",
    "## Variables\n",
    "\n",
    "- `Location`: Provincia donde se midieron los datos.\n",
    "- `Fertility`: Tasa de fertilidad (número promedio de hijos por mujer)\n",
    "- `Agriculture`:` Porcentaje de hombres ocupados en agricultura\n",
    "- `Examination`: Porcentaje de hombres que completaron exámenes de educación superior\n",
    "- `Education`: Nivel promedio de educación (escala arbitraria)\n",
    "- `Catholic`: Porcentaje de población católica\n",
    "- `Infant.Mortality`: Tasa de mortalidad infantil (por cada 1000 nacidos vivos)\n",
    "\n",
    "## Que queremos predecir?\n",
    "\n",
    "Vamos a utilizar este dataset para predecir la tasa de fertilidad en cada provincia mediante diferentes métodos de regresión.\n",
    "\n",
    "--- \n",
    "\n",
    "Siguiendo el procedimiento típico de Machine Learning, vamos a leer los datos y separarlos en los datasets de entrenamiento y testeo utilizando Scikit-Learn..."
   ]
  },
  {
   "cell_type": "code",
   "execution_count": 1,
   "id": "23a28331",
   "metadata": {},
   "outputs": [
    {
     "data": {
      "text/html": [
       "<div>\n",
       "<style scoped>\n",
       "    .dataframe tbody tr th:only-of-type {\n",
       "        vertical-align: middle;\n",
       "    }\n",
       "\n",
       "    .dataframe tbody tr th {\n",
       "        vertical-align: top;\n",
       "    }\n",
       "\n",
       "    .dataframe thead th {\n",
       "        text-align: right;\n",
       "    }\n",
       "</style>\n",
       "<table border=\"1\" class=\"dataframe\">\n",
       "  <thead>\n",
       "    <tr style=\"text-align: right;\">\n",
       "      <th></th>\n",
       "      <th>Location</th>\n",
       "      <th>Fertility</th>\n",
       "      <th>Agriculture</th>\n",
       "      <th>Examination</th>\n",
       "      <th>Education</th>\n",
       "      <th>Catholic</th>\n",
       "      <th>Infant.Mortality</th>\n",
       "    </tr>\n",
       "  </thead>\n",
       "  <tbody>\n",
       "    <tr>\n",
       "      <th>0</th>\n",
       "      <td>Courtelary</td>\n",
       "      <td>80.2</td>\n",
       "      <td>17.0</td>\n",
       "      <td>15</td>\n",
       "      <td>12</td>\n",
       "      <td>9.96</td>\n",
       "      <td>22.2</td>\n",
       "    </tr>\n",
       "    <tr>\n",
       "      <th>1</th>\n",
       "      <td>Delemont</td>\n",
       "      <td>83.1</td>\n",
       "      <td>45.1</td>\n",
       "      <td>6</td>\n",
       "      <td>9</td>\n",
       "      <td>84.84</td>\n",
       "      <td>22.2</td>\n",
       "    </tr>\n",
       "    <tr>\n",
       "      <th>2</th>\n",
       "      <td>Franches-Mnt</td>\n",
       "      <td>92.5</td>\n",
       "      <td>39.7</td>\n",
       "      <td>5</td>\n",
       "      <td>5</td>\n",
       "      <td>93.40</td>\n",
       "      <td>20.2</td>\n",
       "    </tr>\n",
       "    <tr>\n",
       "      <th>3</th>\n",
       "      <td>Moutier</td>\n",
       "      <td>85.8</td>\n",
       "      <td>36.5</td>\n",
       "      <td>12</td>\n",
       "      <td>7</td>\n",
       "      <td>33.77</td>\n",
       "      <td>20.3</td>\n",
       "    </tr>\n",
       "    <tr>\n",
       "      <th>4</th>\n",
       "      <td>Neuveville</td>\n",
       "      <td>76.9</td>\n",
       "      <td>43.5</td>\n",
       "      <td>17</td>\n",
       "      <td>15</td>\n",
       "      <td>5.16</td>\n",
       "      <td>20.6</td>\n",
       "    </tr>\n",
       "  </tbody>\n",
       "</table>\n",
       "</div>"
      ],
      "text/plain": [
       "       Location  Fertility  Agriculture  Examination  Education  Catholic  \\\n",
       "0    Courtelary       80.2         17.0           15         12      9.96   \n",
       "1      Delemont       83.1         45.1            6          9     84.84   \n",
       "2  Franches-Mnt       92.5         39.7            5          5     93.40   \n",
       "3       Moutier       85.8         36.5           12          7     33.77   \n",
       "4    Neuveville       76.9         43.5           17         15      5.16   \n",
       "\n",
       "   Infant.Mortality  \n",
       "0              22.2  \n",
       "1              22.2  \n",
       "2              20.2  \n",
       "3              20.3  \n",
       "4              20.6  "
      ]
     },
     "execution_count": 1,
     "metadata": {},
     "output_type": "execute_result"
    }
   ],
   "source": [
    "import pandas as pd\n",
    "\n",
    "df = pd.read_csv(\"swiss.csv\")\n",
    "\n",
    "df.head()"
   ]
  },
  {
   "cell_type": "code",
   "execution_count": 2,
   "id": "5b63e6b3",
   "metadata": {},
   "outputs": [
    {
     "name": "stdout",
     "output_type": "stream",
     "text": [
      "Tenemos 47 observaciones\n"
     ]
    }
   ],
   "source": [
    "print(f\"Tenemos {df.shape[0]} observaciones\")"
   ]
  },
  {
   "cell_type": "markdown",
   "id": "c302ee9e",
   "metadata": {},
   "source": [
    "Obtenemos la variable objetivo (`Fertility`) y, por otro lado, los atributos (quitamos `Location` ya que no es un atributo numérico relevante para la regresión)"
   ]
  },
  {
   "cell_type": "code",
   "execution_count": 3,
   "id": "e0d09d2f",
   "metadata": {},
   "outputs": [],
   "source": [
    "X = df.drop([\"Fertility\", \"Location\"], axis=1)\n",
    "y = df[\"Fertility\"]"
   ]
  },
  {
   "cell_type": "markdown",
   "id": "3ea384b1",
   "metadata": {},
   "source": [
    "Dado que tenemos pocas observaciones, vamos a separar el dataset en un 50% para entrenamiento y 50% para testeo:"
   ]
  },
  {
   "cell_type": "code",
   "execution_count": 4,
   "id": "cad8856e",
   "metadata": {},
   "outputs": [],
   "source": [
    "from sklearn.model_selection import train_test_split\n",
    "\n",
    "X_train, X_test, y_train, y_test = train_test_split(X, y, test_size=0.5, random_state=42)"
   ]
  },
  {
   "cell_type": "markdown",
   "id": "18e05d11",
   "metadata": {},
   "source": [
    "## Regresión lineal múltiple\n",
    "\n",
    "Arranquemos la primera parte del ejercicio. Para eso, vamos a entrenar un modelo de regresión lineal múltiple usando todos los atributos. Para ello debes:\n",
    "\n",
    "1. Escalar los atributos usando `StandardScaler`\n",
    "2. Entrenar el modelo usando el dataset de entrenamiento.\n",
    "3. Obtener las predicciones sobre el dataset de testeo.\n",
    "4. Calcular las métricas MAE, MSE  y $R^2$, e imprimir los resultados."
   ]
  },
  {
   "cell_type": "code",
   "execution_count": 5,
   "id": "56876f4d",
   "metadata": {},
   "outputs": [
    {
     "name": "stdout",
     "output_type": "stream",
     "text": [
      "Resultados Regresión Lineal Múltiple:\n",
      "\n",
      "MAE: 6.093707279834088\n",
      "MSE: 64.45719426896414\n",
      "R² : 0.5744462918768749\n"
     ]
    }
   ],
   "source": [
    "from sklearn.linear_model import LinearRegression\n",
    "from sklearn.pipeline import Pipeline\n",
    "from sklearn.preprocessing import StandardScaler\n",
    "from sklearn.metrics import r2_score, mean_squared_error, mean_absolute_error\n",
    "\n",
    "##### COMPLETAR AQUI LO PEDIDO\n",
    "\n",
    "# -------------------------\n",
    "# 1) Regresión Lineal clásica\n",
    "# -------------------------\n",
    "linreg = LinearRegression()\n",
    "linreg.fit(X_train, y_train)\n",
    "y_pred_lin = linreg.predict(X_test)\n",
    "\n",
    "mae_lin = mean_absolute_error(y_test, y_pred_lin)\n",
    "mse_lin = mean_squared_error(y_test, y_pred_lin)\n",
    "r2_lin = r2_score(y_test, y_pred_lin)\n",
    "\n",
    "# -------------------------\n",
    "# Resultados\n",
    "# -------------------------\n",
    "print(\"Resultados Regresión Lineal Múltiple:\")\n",
    "print(\"\")\n",
    "print(\"MAE:\", mae_lin)\n",
    "print(\"MSE:\", mse_lin)\n",
    "print(\"R² :\", r2_lin)"
   ]
  },
  {
   "cell_type": "markdown",
   "id": "dbc13508",
   "metadata": {},
   "source": [
    "## Modelo con regularización\n",
    "\n",
    "Para mejorar nuestro modelo, vamos a explorar técnicas de regresión lineal con regularización, que nos permiten controlar el sobreajuste y seleccionar variables relevantes automáticamente.\n",
    "\n",
    "Existen dos variantes muy populares:\n",
    "\n",
    "- Una penaliza la suma de los cuadrados de los coeficientes (regularización L2).\n",
    "- La otra penaliza la suma del valor absoluto de los coeficientes (regularización L1).\n",
    "\n",
    "Ambas ayudan a mejorar la generalización, pero una de ellas además puede eliminar variables (coeficientes exactamente cero), lo que ayuda a identificar qué atributos son realmente importantes.\n",
    "\n",
    "Tu tarea:\n",
    "\n",
    "1. Elegí correctamente cuál de los dos métodos de regularización usar para este problema. \n",
    "    - Pista: Queremos que el modelo sea capaz de hacer una selección automática de variables, dejando fuera aquellas que no aportan.\n",
    "2. Implementá un pipeline que incluya escalado y el modelo elegido.\n",
    "3. Buscá automáticamente el mejor valor del hiperparámetro de regularización (alpha) usando validación cruzada usando 3-folds.\n",
    "4. Entrená el modelo con los datos de entrenamiento y obtené las predicciones para el set de testeo.\n",
    "5. Calcular las métricas MAE, MSE  y $R^2$, e imprimir los resultados.\n",
    "6. Imprimí los coeficientes resultantes e identificá qué variables fueron eliminadas (coeficiente = 0)."
   ]
  },
  {
   "cell_type": "code",
   "execution_count": 6,
   "id": "67bba4de",
   "metadata": {},
   "outputs": [],
   "source": [
    "import numpy as np\n",
    "\n",
    "from sklearn.linear_model import LassoCV, RidgeCV"
   ]
  },
  {
   "cell_type": "markdown",
   "id": "1548509b",
   "metadata": {},
   "source": [
    "Paremos un momento para entender qué hacen LassoCV y RidgeCV antes de continuar con la resolución:\n",
    "\n",
    "> Tanto `LassoCV` como `RidgeCV` son implementaciones de regresión lineal con regularización que incluyen la búsqueda automática del mejor hiperparámetro alpha mediante validación cruzada.\n",
    ">\n",
    "> Ambos métodos prueban distintos valores de alpha y eligen el que minimiza el error del modelo, facilitando el proceso de ajuste sin necesidad de una búsqueda manual.\n",
    ">\n",
    "> Internamente, utilizan la métrica del error cuadrático medio (MSE) para evaluar el rendimiento del modelo en cada fold de la validación cruzada.\n",
    ">\n",
    "> Por ejemplo, si llamás a RidgeCV(alphas=alphas, cv=5), se hará una validación cruzada de 5 folds utilizando los valores de alpha que vos le pases, y se seleccionará el que obtenga el menor MSE promedio.\n",
    "> \n",
    "> Una vez elegido el mejor alpha, el modelo final se entrena con todos los datos de entrenamiento usando ese valor.\n",
    "\n",
    "¡Listo! Con todo lo que vimos hasta ahora, ya estás en condiciones de resolver esta parte y completar los 6 puntos propuestos"
   ]
  },
  {
   "cell_type": "code",
   "execution_count": 18,
   "id": "340d24d8",
   "metadata": {},
   "outputs": [
    {
     "name": "stdout",
     "output_type": "stream",
     "text": [
      "Resultados Lasso Regularizado:\n",
      "\n",
      "Mejor alpha: 3.62341632332315\n",
      "MAE: 5.296418490063275\n",
      "MSE: 44.850916988825894\n",
      "R² : 0.7038891584750939\n",
      "\n",
      "Coeficientes comparados:\n",
      "           Variable  Coef_LinReg  Coef_Lasso\n",
      "0       Agriculture    -0.255077   -0.196993\n",
      "1       Examination     0.405752    0.000000\n",
      "2         Education    -1.309236   -0.903687\n",
      "3          Catholic     0.185458    0.137774\n",
      "4  Infant.Mortality     1.027310    0.779223\n"
     ]
    }
   ],
   "source": [
    "alphas = np.logspace(-4, 1, 500)\n",
    "\n",
    "##### COMPLETAR AQUI LO PEDIDO\n",
    "\n",
    "# -------------------------\n",
    "# 2) Modelo Regularizado (LassoCV o RidgeCV)\n",
    "# -------------------------\n",
    "alphas = np.logspace(-4, 1, 500)\n",
    "\n",
    "# Elegimos Lasso para este ejemplo (puedes cambiar a RidgeCV)\n",
    "lasso = LassoCV(alphas=alphas, cv=3, random_state=42)\n",
    "lasso.fit(X_train, y_train)\n",
    "y_pred_lasso = lasso.predict(X_test)\n",
    "\n",
    "mae_lasso = mean_absolute_error(y_test, y_pred_lasso)\n",
    "mse_lasso = mean_squared_error(y_test, y_pred_lasso)\n",
    "r2_lasso = r2_score(y_test, y_pred_lasso)\n",
    "\n",
    "# -------------------------\n",
    "# Resultados\n",
    "# -------------------------\n",
    "print(\"Resultados Lasso Regularizado:\")\n",
    "print(\"\")\n",
    "print(\"Mejor alpha:\", lasso.alpha_)\n",
    "print(\"MAE:\", mae_lasso)\n",
    "print(\"MSE:\", mse_lasso)\n",
    "print(\"R² :\", r2_lasso)\n",
    "\n",
    "# Mostrar coeficientes y ver si alguno fue eliminado (coef = 0)\n",
    "coef_table = pd.DataFrame({\n",
    "    \"Variable\": X.columns,\n",
    "    \"Coef_LinReg\": linreg.coef_,\n",
    "    \"Coef_Lasso\": lasso.coef_\n",
    "})\n",
    "print(\"\\nCoeficientes comparados:\")\n",
    "print(coef_table)"
   ]
  },
  {
   "cell_type": "markdown",
   "id": "5d10c858",
   "metadata": {},
   "source": [
    "## Comparación de modelos y conclusiones\n",
    "\n",
    "Completá la siguiente tabla con las métricas obtenidas para cada uno de los modelos que entrenaste:\n",
    "\n",
    "| Modelo                        | MAE | MSE | $R^2$ |\n",
    "| ----------------------------- | --- | --- | ----- |\n",
    "| Regresión Lineal              |6.094|64.46|0.57445|\n",
    "| Lasso Regularizado (L1)       |5.296|44.85|0.70389|\n",
    "\n",
    "\n",
    "> ⚠️ Asegurate de cambiar el nombre del modelo `Modelo Regularizado (L1 o L2)` según el modelo que usaste (Lasso o Ridge).\n",
    "\n",
    "### Justificación\n",
    "\n",
    "**¿Cuál de los modelos te parece que tuvo un mejor desempeño general?**\n",
    "\n",
    "Tené en cuenta las tres métricas al responder, y también pensá en la complejidad del modelo (por ejemplo, si eliminó variables innecesarias).\n",
    "\n",
    "Escribí tu respuesta a continuación:"
   ]
  },
  {
   "cell_type": "markdown",
   "id": "8c1ada5c",
   "metadata": {},
   "source": [
    "El modelo que tuvo mejor desempeño general fue **Lasso Regularizado (L1)**. Esto se observa porque presenta:\n",
    "\n",
    "- Un **MAE menor** (5.296 vs 6.094), lo que indica que en promedio las predicciones están más cerca de los valores reales.  \n",
    "- Un **MSE más bajo** (44.85 vs 64.46), penalizando menos los errores grandes.  \n",
    "- Un **R² más alto** (0.70389 vs 0.57445), lo que significa que explica una mayor proporción de la variabilidad de los datos.  \n",
    "\n",
    "Además, Lasso agrega la ventaja de poder eliminar variables irrelevantes al forzar algunos coeficientes a cero, simplificando el modelo y mejorando su interpretabilidad.  \n",
    "\n",
    "Por lo tanto, en términos de precisión y simplicidad, el **modelo Lasso Regularizado (L1)** resulta superior al modelo de regresión lineal clásica.\n"
   ]
  }
 ],
 "metadata": {
  "kernelspec": {
   "display_name": "Python 3 (ipykernel)",
   "language": "python",
   "name": "python3"
  },
  "language_info": {
   "codemirror_mode": {
    "name": "ipython",
    "version": 3
   },
   "file_extension": ".py",
   "mimetype": "text/x-python",
   "name": "python",
   "nbconvert_exporter": "python",
   "pygments_lexer": "ipython3",
   "version": "3.11.13"
  }
 },
 "nbformat": 4,
 "nbformat_minor": 5
}
