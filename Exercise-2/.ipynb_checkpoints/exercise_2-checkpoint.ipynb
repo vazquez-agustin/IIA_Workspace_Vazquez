{
 "cells": [
  {
   "cell_type": "markdown",
   "id": "9dc3793379ee6eb9",
   "metadata": {
    "collapsed": false,
    "jupyter": {
     "outputs_hidden": false
    }
   },
   "source": [
    "# Ejercicio Módulo 2\n",
    "**Inteligencia Artificial - CEIA - FIUBA**\n",
    "\n",
    "**Agustín Jesús Vazquez (e2301)**\n",
    "\n",
    "En este ejercicio deben implementar un algoritmo de búsqueda que no sea **Búsqueda Primero en Anchura (BFS)** para resolver el problema de la Torre de Hanoi. La nota máxima dependerá del algoritmo implementado:\n",
    "\n",
    "- **Búsqueda Primero en Profundidad**: nota máxima 6.\n",
    "- **Búsqueda de Costo Uniforme**: nota máxima 6.\n",
    "- **Búsqueda de Profundidad Limitada con Profundidad Iterativa**: nota máxima 7.\n",
    "- **Búsqueda Voraz usando la heurística dada en el aula virtual**: nota máxima 8.\n",
    "- **Búsqueda Voraz usando una heurística desarrollada por vos**: nota máxima 9.\n",
    "- **Búsqueda A\\* usando la heurística dada en el aula virtual**: nota máxima 9.\n",
    "- **Búsqueda A\\* usando una heurística desarrollada por vos**: nota máxima 10.\n",
    "\n",
    "La función debe devolver la salida correspondiente a la solución encontrada o `None si no se encontró una solución.\n",
    "\n",
    "Además, debe calcular métricas de rendimiento que, como mínimo, incluyan:\n",
    "\n",
    "- `solution_found`: `True` si se encontró la solución, `False` en caso contrario.\n",
    "- `nodes_explored`: cantidad de nodos explorados (entero).\n",
    "- `states_visited`: cantidad de estados distintos visitados (entero).\n",
    "- `nodes_in_frontier`: cantidad de nodos que quedaron en la frontera al finalizar la ejecución (entero).\n",
    "- `max_depth`: máxima profundidad explorada (entero).\n",
    "- `cost_total`: costo total para encontrar la solución (float)."
   ]
  },
  {
   "cell_type": "code",
   "execution_count": 1,
   "id": "d070f4f5-39ee-4081-85ab-ee2257ecd769",
   "metadata": {},
   "outputs": [],
   "source": [
    "import heapq\n",
    "from aima_libs.hanoi_states import ProblemHanoi, StatesHanoi\n",
    "from aima_libs.tree_hanoi import NodeHanoi\n",
    "from heapq import heappush, heappop\n",
    "from aima_libs import aima  # opcional\n",
    "from collections import defaultdict\n",
    "import os"
   ]
  },
  {
   "cell_type": "code",
   "execution_count": 2,
   "id": "d58cc9fe-ab05-4ab5-8627-6687c42c558e",
   "metadata": {},
   "outputs": [],
   "source": [
    "def search_algorithm(number_disks=5) -> (NodeHanoi, dict):\n",
    "\n",
    "    list_disks = [i for i in range(5, 0, -1)]\n",
    "    initial_state = StatesHanoi(list_disks, [], [], max_disks=number_disks)\n",
    "    goal_state = StatesHanoi([], [], list_disks, max_disks=number_disks)\n",
    "    problem = ProblemHanoi(initial=initial_state, goal=goal_state)\n",
    "\n",
    "    ##############################################################################################\n",
    "\n",
    "    def search_algorithm(number_disks=5) -> (NodeHanoi, dict):\n",
    "        # ----- construir estados inicial y objetivo\n",
    "        list_disks = [i for i in range(number_disks, 0, -1)]  # discos: grande->chico\n",
    "        initial_state = StatesHanoi(list_disks, [], [], max_disks=number_disks)\n",
    "        goal_state    = StatesHanoi([], [], list_disks, max_disks=number_disks)\n",
    "        problem = ProblemHanoi(initial=initial_state, goal=goal_state)\n",
    "\n",
    "    # ----- helpers: hashing de estado y heurística admisible\n",
    "    def state_key(st: StatesHanoi):\n",
    "        # ajustá esto si tu clase expone otro nombre que no sea 'rods'\n",
    "        return tuple(tuple(rod) for rod in st.rods)\n",
    "\n",
    "    def goal_peg_index(st: StatesHanoi):\n",
    "        # detecta cuál es la estaca objetivo (la que tiene los discos [n..1] en el goal_state)\n",
    "        rods = goal_state.rods\n",
    "        for i in range(3):\n",
    "            if tuple(rods[i]) == tuple([*range(number_disks, 0, -1)]):\n",
    "                return i\n",
    "        # por defecto 2 (tercera estaca)\n",
    "        return 2\n",
    "\n",
    "    GOAL_PEG = goal_peg_index(goal_state)\n",
    "\n",
    "    def heuristic(st: StatesHanoi) -> int:\n",
    "        \"\"\"h(n) = 2^(remaining) - 1, donde remaining = n - k;\n",
    "        k = cantidad de discos más grandes ya ubicados correctamente en la estaca objetivo.\n",
    "        \"\"\"\n",
    "        rods = st.rods\n",
    "        goal_stack = rods[GOAL_PEG]\n",
    "        # contamos cuántos discos desde el más grande hacia abajo ya están correctamente al fondo\n",
    "        k = 0\n",
    "        expect = number_disks\n",
    "        # goal_stack está ordenada de abajo->arriba? normalmente sí: fondo=índice 0.\n",
    "        # Recorremos desde el fondo hacia arriba mientras coincidan number_disks, number_disks-1, ...\n",
    "        for d in goal_stack:\n",
    "            if d == expect:\n",
    "                k += 1\n",
    "                expect -= 1\n",
    "            else:\n",
    "                break\n",
    "        remaining = number_disks - k\n",
    "        if remaining <= 0:\n",
    "            return 0\n",
    "        return (1 << remaining) - 1  # 2^(remaining) - 1\n",
    "\n",
    "    # ----- estructura para A*\n",
    "    # cada entrada del heap: (f, tie, g, node)\n",
    "    # 'tie' evita problemas de comparación entre nodos (contador incremental)\n",
    "    frontier = []\n",
    "    tie = 0\n",
    "\n",
    "    start = NodeHanoi(initial_state)\n",
    "    g0 = 0\n",
    "    f0 = g0 + heuristic(initial_state)\n",
    "    heapq.heappush(frontier, (f0, tie, g0, start))\n",
    "    tie += 1\n",
    "\n",
    "    # mejores g conocidos por estado\n",
    "    best_g = {state_key(initial_state): 0}\n",
    "    # set de visitados (para métrica states_visited); usamos keys para evitar objetos duplicados\n",
    "    visited_states = set()\n",
    "\n",
    "    # métricas\n",
    "    metrics = {\n",
    "        \"solution_found\": False,\n",
    "        \"nodes_explored\": 0,    # nodos extraídos de la frontera (expandidos)\n",
    "        \"states_visited\": 0,    # cantidad de estados únicos que efectivamente visitamos\n",
    "        \"nodes_in_frontier\": 0, # quedarán al final\n",
    "        \"max_depth\": 0,         # mayor profundidad alcanzada al expandir\n",
    "        \"cost_total\": 0.0,      # costo g de la solución\n",
    "    }\n",
    "\n",
    "    goal_key = state_key(goal_state)\n",
    "\n",
    "    # ----- bucle principal de A*\n",
    "    while frontier:\n",
    "        f, _, g, node = heapq.heappop(frontier)\n",
    "        metrics[\"nodes_explored\"] += 1\n",
    "        metrics[\"max_depth\"] = max(metrics[\"max_depth\"], getattr(node, \"depth\", 0))\n",
    "\n",
    "        k = state_key(node.state)\n",
    "\n",
    "        if k not in visited_states:\n",
    "            visited_states.add(k)\n",
    "            metrics[\"states_visited\"] = len(visited_states)\n",
    "        \n",
    "        # ✅ comprobar objetivo por clave de estado (robusto)\n",
    "        if k == goal_key:\n",
    "            metrics[\"solution_found\"] = True\n",
    "            metrics[\"cost_total\"] = float(g)\n",
    "            metrics[\"nodes_in_frontier\"] = len(frontier)\n",
    "            return node, metrics\n",
    "\n",
    "        # expandir sucesores\n",
    "        for child in node.expand(problem):\n",
    "            g_child = g + 1  # cada movimiento cuesta 1\n",
    "            sk = state_key(child.state)\n",
    "\n",
    "            # dominio de A*: solo re-encolar si encontramos mejor g\n",
    "            prev = best_g.get(sk)\n",
    "            if prev is None or g_child < prev:\n",
    "                best_g[sk] = g_child\n",
    "                h = heuristic(child.state)\n",
    "                f_child = g_child + h\n",
    "                heapq.heappush(frontier, (f_child, tie, g_child, child))\n",
    "                tie += 1\n",
    "\n",
    "    # si no se encontró solución\n",
    "    metrics[\"nodes_in_frontier\"] = 0\n",
    "    return NodeHanoi(initial_state), metrics"
   ]
  },
  {
   "cell_type": "markdown",
   "id": "5cd0daea-d105-410d-b575-98baf3118abb",
   "metadata": {},
   "source": [
    "Se prueba la función:"
   ]
  },
  {
   "cell_type": "code",
   "execution_count": 3,
   "id": "768cc0a3-c2d8-46a0-8008-8648e2858d0e",
   "metadata": {},
   "outputs": [],
   "source": [
    "solution, metrics = search_algorithm(number_disks=5)"
   ]
  },
  {
   "cell_type": "markdown",
   "id": "934d0e1b-1791-405f-a53d-0b834ccc5409",
   "metadata": {},
   "source": [
    "Veamos las métricas:"
   ]
  },
  {
   "cell_type": "code",
   "execution_count": 4,
   "id": "43657735-9e67-4931-a4fc-11db96b5735a",
   "metadata": {},
   "outputs": [
    {
     "name": "stdout",
     "output_type": "stream",
     "text": [
      "solution_found: True\n",
      "nodes_explored: 116\n",
      "states_visited: 116\n",
      "nodes_in_frontier: 9\n",
      "max_depth: 31\n",
      "cost_total: 31.0\n"
     ]
    }
   ],
   "source": [
    "for key, value in metrics.items():\n",
    "    print(f\"{key}: {value}\")"
   ]
  },
  {
   "cell_type": "markdown",
   "id": "32deebf6-2ab1-4573-9aaf-9add84c2939f",
   "metadata": {},
   "source": [
    "Veamos el camino de estados desde el principio a la solución:"
   ]
  },
  {
   "cell_type": "code",
   "execution_count": 5,
   "id": "7c398df5-9dc4-4fae-9181-308f859f2835",
   "metadata": {},
   "outputs": [
    {
     "name": "stdout",
     "output_type": "stream",
     "text": [
      "<Node HanoiState: 5 4 3 2 1 |  | >\n",
      "<Node HanoiState: 5 4 3 2 |  | 1>\n",
      "<Node HanoiState: 5 4 3 | 2 | 1>\n",
      "<Node HanoiState: 5 4 3 | 2 1 | >\n",
      "<Node HanoiState: 5 4 | 2 1 | 3>\n",
      "<Node HanoiState: 5 4 1 | 2 | 3>\n",
      "<Node HanoiState: 5 4 1 |  | 3 2>\n",
      "<Node HanoiState: 5 4 |  | 3 2 1>\n",
      "<Node HanoiState: 5 | 4 | 3 2 1>\n",
      "<Node HanoiState: 5 | 4 1 | 3 2>\n",
      "<Node HanoiState: 5 2 | 4 1 | 3>\n",
      "<Node HanoiState: 5 2 1 | 4 | 3>\n",
      "<Node HanoiState: 5 2 1 | 4 3 | >\n",
      "<Node HanoiState: 5 2 | 4 3 | 1>\n",
      "<Node HanoiState: 5 | 4 3 2 | 1>\n",
      "<Node HanoiState: 5 | 4 3 2 1 | >\n",
      "<Node HanoiState:  | 4 3 2 1 | 5>\n",
      "<Node HanoiState: 1 | 4 3 2 | 5>\n",
      "<Node HanoiState: 1 | 4 3 | 5 2>\n",
      "<Node HanoiState:  | 4 3 | 5 2 1>\n",
      "<Node HanoiState: 3 | 4 | 5 2 1>\n",
      "<Node HanoiState: 3 | 4 1 | 5 2>\n",
      "<Node HanoiState: 3 2 | 4 1 | 5>\n",
      "<Node HanoiState: 3 2 1 | 4 | 5>\n",
      "<Node HanoiState: 3 2 1 |  | 5 4>\n",
      "<Node HanoiState: 3 2 |  | 5 4 1>\n",
      "<Node HanoiState: 3 | 2 | 5 4 1>\n",
      "<Node HanoiState: 3 | 2 1 | 5 4>\n",
      "<Node HanoiState:  | 2 1 | 5 4 3>\n",
      "<Node HanoiState: 1 | 2 | 5 4 3>\n",
      "<Node HanoiState: 1 |  | 5 4 3 2>\n",
      "<Node HanoiState:  |  | 5 4 3 2 1>\n"
     ]
    }
   ],
   "source": [
    "for nodos in solution.path():\n",
    "    print(nodos)"
   ]
  },
  {
   "cell_type": "markdown",
   "id": "11d79725-95ec-4806-be05-ac0522e49afe",
   "metadata": {},
   "source": [
    "Y las acciones que el agente debería aplicar para llegar al objetivo:"
   ]
  },
  {
   "cell_type": "code",
   "execution_count": 6,
   "id": "9c7f1421-be80-45b8-8336-7afe2c2b1ad7",
   "metadata": {},
   "outputs": [
    {
     "name": "stdout",
     "output_type": "stream",
     "text": [
      "Move disk 1 from 1 to 3\n",
      "Move disk 2 from 1 to 2\n",
      "Move disk 1 from 3 to 2\n",
      "Move disk 3 from 1 to 3\n",
      "Move disk 1 from 2 to 1\n",
      "Move disk 2 from 2 to 3\n",
      "Move disk 1 from 1 to 3\n",
      "Move disk 4 from 1 to 2\n",
      "Move disk 1 from 3 to 2\n",
      "Move disk 2 from 3 to 1\n",
      "Move disk 1 from 2 to 1\n",
      "Move disk 3 from 3 to 2\n",
      "Move disk 1 from 1 to 3\n",
      "Move disk 2 from 1 to 2\n",
      "Move disk 1 from 3 to 2\n",
      "Move disk 5 from 1 to 3\n",
      "Move disk 1 from 2 to 1\n",
      "Move disk 2 from 2 to 3\n",
      "Move disk 1 from 1 to 3\n",
      "Move disk 3 from 2 to 1\n",
      "Move disk 1 from 3 to 2\n",
      "Move disk 2 from 3 to 1\n",
      "Move disk 1 from 2 to 1\n",
      "Move disk 4 from 2 to 3\n",
      "Move disk 1 from 1 to 3\n",
      "Move disk 2 from 1 to 2\n",
      "Move disk 1 from 3 to 2\n",
      "Move disk 3 from 1 to 3\n",
      "Move disk 1 from 2 to 1\n",
      "Move disk 2 from 2 to 3\n",
      "Move disk 1 from 1 to 3\n"
     ]
    }
   ],
   "source": [
    "for act in solution.solution():\n",
    "    print(act)"
   ]
  }
 ],
 "metadata": {
  "kernelspec": {
   "display_name": "Python 3 (ipykernel)",
   "language": "python",
   "name": "python3"
  },
  "language_info": {
   "codemirror_mode": {
    "name": "ipython",
    "version": 3
   },
   "file_extension": ".py",
   "mimetype": "text/x-python",
   "name": "python",
   "nbconvert_exporter": "python",
   "pygments_lexer": "ipython3",
   "version": "3.11.13"
  }
 },
 "nbformat": 4,
 "nbformat_minor": 5
}
